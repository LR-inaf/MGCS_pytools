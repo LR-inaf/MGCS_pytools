{
 "cells": [
  {
   "cell_type": "markdown",
   "id": "631b72ce",
   "metadata": {},
   "source": [
    "# Test the `MGCS_pytools` module\n",
    "\n",
    "Import"
   ]
  },
  {
   "cell_type": "code",
   "execution_count": null,
   "id": "8ca1174c",
   "metadata": {},
   "outputs": [],
   "source": [
    "import os\n",
    "import pandas as pd\n",
    "import numpy as np\n",
    "\n",
    "import sys\n",
    "\n",
    "sys.path.append(os.path.dirname(os.getcwd()))\n",
    "\n",
    "from importlib import reload"
   ]
  },
  {
   "cell_type": "code",
   "execution_count": null,
   "id": "b4a816fd",
   "metadata": {},
   "outputs": [],
   "source": [
    "import utils.plotting as utplot\n",
    "\n",
    "reload(utplot)"
   ]
  },
  {
   "cell_type": "markdown",
   "id": "6bfa1e5c",
   "metadata": {},
   "source": [
    "## Membership probability"
   ]
  },
  {
   "cell_type": "code",
   "execution_count": null,
   "id": "9142bd1c",
   "metadata": {},
   "outputs": [],
   "source": [
    "import statistical_membership.membership as stat_mem"
   ]
  },
  {
   "cell_type": "code",
   "execution_count": null,
   "id": "8b161272",
   "metadata": {},
   "outputs": [],
   "source": [
    "CATALOG_PATH = os.path.join(\n",
    "    os.getcwd(), \"NGC6749.CAT.v1\"\n",
    ")  # Replace with the actual path to your catalog\n",
    "OUTPUT_PATH = os.getcwd()  # Replace with the actual path to your output directory"
   ]
  },
  {
   "cell_type": "code",
   "execution_count": null,
   "id": "179a4a1b",
   "metadata": {},
   "outputs": [],
   "source": [
    "# v1cat = \"/home/linux-machine/NGC6749/NGC6749.CAT.v1\"\n",
    "\n",
    "df_cat_v1 = pd.read_csv(CATALOG_PATH, sep=\"\\s+\")\n",
    "df_cat_v1 = df_cat_v1[df_cat_v1[\"oktot(54)\"] == 1]\n",
    "df_cat_v1[\"membership\"] = 0.0\n",
    "\n",
    "cluster_mag = [\"m6061c(6)\", \"m8141c(7)\"]\n",
    "cluster_mag_corr = [col + \"_drcorr\" for col in cluster_mag]\n",
    "field_mag = [\"m6062c(8)\", \"m8142c(9)\"]\n",
    "\n",
    "df_field = df_cat_v1[df_cat_v1[field_mag[0]] != 0.0]\n",
    "df_cluster = df_cat_v1[df_cat_v1[cluster_mag[0]] != 0.0]\n",
    "\n",
    "fov_wfc3 = 163.0**2  # arcsec squared\n",
    "fov_acs = 202.0**2  # arcsec squared"
   ]
  },
  {
   "cell_type": "code",
   "execution_count": null,
   "id": "7f7e79f2",
   "metadata": {},
   "outputs": [],
   "source": [
    "# reload(stat_mem)\n",
    "\n",
    "# setting up the parameters for the reddening correction\n",
    "dr_params = {\n",
    "    \"rband1\": 0.903,\n",
    "    \"rband2\": 0.597,\n",
    "    \"TO_mag\": 22,\n",
    "    \"TO_color\": 1.75,\n",
    "    \"nref\": 20,\n",
    "    \"xcol\": \"x(3)\",\n",
    "    \"ycol\": \"y(4)\",\n",
    "    \"band1\": cluster_mag[0],\n",
    "    \"band2\": cluster_mag[1],\n",
    "    \"ord_step\": 0.2,\n",
    "}\n",
    "\n",
    "ord_max = 0.4  # 0.40\n",
    "ord_min = -0.05  # -2.0  # -0.05\n",
    "roi = np.array([[1.0, ord_max], [2.1, ord_max], [0.3, ord_min], [-0.2, ord_min]])\n",
    "# roi = np.array([[-0.8, ord_max], [0, ord_max], [-4, ord_min], [-5, ord_min]])\n",
    "\n",
    "# compute ememberhsip and reddening correction\n",
    "df_cluster_corr = stat_mem.do_statistical_membership(\n",
    "    df_cluster,\n",
    "    df_field,\n",
    "    field_mag,\n",
    "    dr_params,\n",
    "    racol=\"ra(1)\",\n",
    "    deccol=\"dec(2)\",\n",
    "    fov_ratio=fov_acs / fov_wfc3,\n",
    "    roi=roi,\n",
    "    minstars=1000,\n",
    "    memebership_iter=100,\n",
    "    member_threshold=0.9,\n",
    "    plot_dred=False,\n",
    "    plot_voronoi=False,\n",
    ")"
   ]
  },
  {
   "cell_type": "code",
   "execution_count": null,
   "id": "68804c0c",
   "metadata": {},
   "outputs": [],
   "source": [
    "_ = utplot.plot_membership_overview(\n",
    "    df_cluster_corr[cluster_mag_corr[0]],\n",
    "    df_cluster_corr[cluster_mag_corr[1]],\n",
    "    df_field[field_mag[0]],\n",
    "    df_field[field_mag[1]],\n",
    "    df_cluster_corr[\"membership\"],\n",
    "    blabel=\"$m_{\\mathrm{F606W}}$\",\n",
    "    vlabel=\"$m_{\\mathrm{F814W}}$\",\n",
    "    xlim=(0.5, 3.5),\n",
    "    ylim=(27, 14),\n",
    ")"
   ]
  },
  {
   "cell_type": "code",
   "execution_count": null,
   "id": "a73462a1",
   "metadata": {},
   "outputs": [],
   "source": [
    "_ = utplot.plot_decontamination_snapshot(\n",
    "    df_cluster_corr[cluster_mag_corr[0]],\n",
    "    df_cluster_corr[cluster_mag_corr[1]],\n",
    "    df_field[field_mag[0]],\n",
    "    df_field[field_mag[1]],\n",
    "    df_cluster_corr[\"membership\"],\n",
    "    member_threshold=0.8,\n",
    "    blabel=\"$m_{\\mathrm{F606W}}$\",\n",
    "    vlabel=\"$m_{\\mathrm{F814W}}$\",\n",
    "    xlim=(0.5, 3.5),\n",
    "    ylim=(27, 14),\n",
    ")"
   ]
  },
  {
   "cell_type": "code",
   "execution_count": null,
   "id": "7650d778",
   "metadata": {},
   "outputs": [],
   "source": [
    "_ = utplot.plot_spatial_membership(\n",
    "    df_cluster_corr[\"ra(1)\"],\n",
    "    df_cluster_corr[\"dec(2)\"],\n",
    "    df_cluster_corr[\"membership\"],\n",
    "    member_threshold=0.8,\n",
    ")"
   ]
  },
  {
   "cell_type": "code",
   "execution_count": null,
   "id": "59462e97",
   "metadata": {},
   "outputs": [],
   "source": [
    "ra_center = (\n",
    "    df_cluster[\"ra(1)\"].min()\n",
    "    + (df_cluster[\"ra(1)\"].max() - df_cluster[\"ra(1)\"].min()) / 2\n",
    ")\n",
    "dec_center = (\n",
    "    df_cluster[\"dec(2)\"].min()\n",
    "    + (df_cluster[\"dec(2)\"].max() - df_cluster[\"dec(2)\"].min()) / 2\n",
    ")"
   ]
  },
  {
   "cell_type": "code",
   "execution_count": null,
   "id": "216ecbe3",
   "metadata": {},
   "outputs": [],
   "source": [
    "_ = utplot.plot_reddening_map(\n",
    "    df_cluster_corr[\"ra(1)\"],\n",
    "    df_cluster_corr[\"dec(2)\"],\n",
    "    ra_center,\n",
    "    dec_center,\n",
    "    df_cluster_corr[\"delta_ebv\"],\n",
    ")"
   ]
  },
  {
   "cell_type": "markdown",
   "id": "71ee786b",
   "metadata": {},
   "source": [
    "## Kinematic analysis"
   ]
  },
  {
   "cell_type": "code",
   "execution_count": null,
   "id": "940a2ac8",
   "metadata": {},
   "outputs": [],
   "source": [
    "from mcmc import mcmc\n",
    "\n",
    "reload(mcmc)"
   ]
  },
  {
   "cell_type": "code",
   "execution_count": null,
   "id": "f9c7b734",
   "metadata": {},
   "outputs": [],
   "source": [
    "CATALOG_PATH = os.path.join(\n",
    "    os.getcwd(), \"NGC6749_GAIAHUB_REWIND_CORR.csv\"\n",
    ")  # Replace with the actual path to your catalog"
   ]
  },
  {
   "cell_type": "code",
   "execution_count": null,
   "id": "6c6b047e",
   "metadata": {},
   "outputs": [],
   "source": [
    "df = pd.read_csv(CATALOG_PATH)\n",
    "\n",
    "SIG_THRESHOLD = 2 * 0.33151780269010644\n",
    "\n",
    "filter_df = df[\n",
    "    (df[\"hst_gaia_pmra_wmean_corr_error\"].abs() < SIG_THRESHOLD)\n",
    "    & (df[\"hst_gaia_pmdec_wmean_corr_error\"].abs() < SIG_THRESHOLD)\n",
    "    & (df[\"oktot(54)\"] == 1)\n",
    "].copy()"
   ]
  },
  {
   "cell_type": "code",
   "execution_count": null,
   "id": "8f719fb7",
   "metadata": {},
   "outputs": [],
   "source": [
    "# run parameters\n",
    "nwalkers = 50\n",
    "nsteps = 1000\n",
    "\n",
    "# sample.chian parameters\n",
    "discard = 500\n",
    "thin = 10\n",
    "flat = True\n",
    "\n",
    "# priors\n",
    "qmin = np.array([-4.0, -7.0, 0.0, 0.0, -1.0, -4.0, -7.0, 1.0, 1.0, -1.0, 0.0])\n",
    "qmax = np.array([-2.0, -5.0, 2.0, 2.0, 1.0, -1.0, -3.0, 3.0, 3.0, 1.0, 1.0])\n",
    "\n",
    "# linked parameters\n",
    "lnk_params = np.array([(2, 3)])\n",
    "\n",
    "# fix parameters\n",
    "fix_params = np.full(qmin.size, np.nan)\n",
    "fpi = np.array([4])\n",
    "fix_params[fpi] = 0.0\n",
    "\n",
    "colra = \"hst_gaia_pmra_wmean_corr\"\n",
    "coldec = \"hst_gaia_pmdec_wmean_corr\"\n",
    "colrae = \"hst_gaia_pmra_wmean_corr_error\"\n",
    "coldece = \"hst_gaia_pmdec_wmean_corr_error\""
   ]
  },
  {
   "cell_type": "code",
   "execution_count": null,
   "id": "1cf8aa33",
   "metadata": {},
   "outputs": [],
   "source": [
    "gh_emcee = mcmc.MyEmceeES(\n",
    "    data=filter_df[\n",
    "        [\n",
    "            colra,\n",
    "            coldec,\n",
    "            colrae,\n",
    "            coldece,\n",
    "        ]\n",
    "    ].values,\n",
    "    pmodel=\"multivariate_2d\",\n",
    "    nwalkers=50,\n",
    "    nsteps=1000,\n",
    "    ncomp=2,\n",
    "    par_per_comp=5,\n",
    "    qmin=qmin,\n",
    "    qmax=qmax,\n",
    ")\n",
    "gh_emcee.run_emcee(parallel=True)"
   ]
  },
  {
   "cell_type": "code",
   "execution_count": null,
   "id": "bbaf1135",
   "metadata": {},
   "outputs": [],
   "source": [
    "params = [\n",
    "    r\"$\\mu_\\alpha^{GC}$\",\n",
    "    r\"$\\mu_\\delta^{GC}$\",\n",
    "    r\"$\\sigma_\\alpha^{GC}$\",\n",
    "    r\"$\\sigma_\\delta^{GC}$\",\n",
    "    r\"$\\sigma_{\\alpha\\delta}^{GC}$\",\n",
    "    r\"$\\mu_\\alpha^{field}$\",\n",
    "    r\"$\\mu_\\delta^{field}$\",\n",
    "    r\"$\\sigma_\\alpha^{field}$\",\n",
    "    r\"$\\sigma_\\delta^{field}$\",\n",
    "    r\"$\\sigma_{\\alpha\\delta}^{field}$\",\n",
    "    r\"$w_{GC}$\",\n",
    "]\n",
    "\n",
    "ch = gh_emcee.get_chain(flat=flat, thin=thin, discard=discard)\n",
    "truths = gh_emcee.get_chpars(discard=discard, thin=thin, which=\"maxln\", flat=flat)\n",
    "\n",
    "# Trace plots\n",
    "fig = utplot.traceplots(gh_emcee.get_chain(), labels=params, burnin=discard)\n",
    "fig.set_size_inches(12, 10)\n",
    "fig.set_tight_layout(True)\n",
    "\n",
    "# corner plots\n",
    "fig = utplot.plot_corner(chain=ch, labels=params, title=\"GAIAHUB\", truths=truths)"
   ]
  },
  {
   "cell_type": "code",
   "execution_count": null,
   "id": "dd4fa10b",
   "metadata": {},
   "outputs": [],
   "source": []
  }
 ],
 "metadata": {
  "kernelspec": {
   "display_name": "sci-env",
   "language": "python",
   "name": "python3"
  },
  "language_info": {
   "codemirror_mode": {
    "name": "ipython",
    "version": 3
   },
   "file_extension": ".py",
   "mimetype": "text/x-python",
   "name": "python",
   "nbconvert_exporter": "python",
   "pygments_lexer": "ipython3",
   "version": "3.10.14"
  }
 },
 "nbformat": 4,
 "nbformat_minor": 5
}
